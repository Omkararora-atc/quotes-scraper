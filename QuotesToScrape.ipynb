{
 "cells": [
  {
   "metadata": {},
   "cell_type": "code",
   "outputs": [],
   "execution_count": null,
   "source": [
    "import requests\n",
    "from bs4 import BeautifulSoup\n",
    "import pandas as pd\n",
    "from tqdm import tqdm"
   ],
   "id": "198832bd019191b4"
  },
  {
   "metadata": {},
   "cell_type": "code",
   "outputs": [],
   "execution_count": null,
   "source": [
    "data=[]\n",
    "for i in tqdm(range(1,11)):\n",
    "    link=f\"https://quotes.toscrape.com/page/{i}/\"\n",
    "    response = requests.get(link)\n",
    "    soup=BeautifulSoup(response.text,\"html.parser\")\n",
    "    for sp in soup.find_all(\"div\",class_=\"quote\"):\n",
    "        quotes    =sp.find(\"span\",class_=\"text\").text[1:-1]\n",
    "        author    =sp.find(\"small\",class_=\"author\").text\n",
    "        author_id =sp.find(\"a\").get(\"href\")\n",
    "        tags = []\n",
    "        for tag in sp.find_all(\"a\",class_ = \"tag\"):\n",
    "           tags.append(tag.text)\n",
    "        tags = \",\".join(tags)\n",
    "        data.append([quotes, author, author_id, tags])"
   ],
   "id": "f9b34bea5a6f7428"
  },
  {
   "metadata": {},
   "cell_type": "code",
   "outputs": [],
   "execution_count": null,
   "source": [
    "df=pd.DataFrame(data,columns=[\"Quotes\",\"Author\",\"Author_id\",\"Tags\"])\n",
    "df['author_link'] = 'https://quotes.toscrape.com' + df['Author_id']"
   ],
   "id": "ea3782302f0adeca"
  },
  {
   "metadata": {},
   "cell_type": "code",
   "outputs": [],
   "execution_count": null,
   "source": "df.to_csv(\"new_quotes.csv\",index=False)",
   "id": "da477e38ddb05281"
  }
 ],
 "metadata": {},
 "nbformat": 4,
 "nbformat_minor": 5
}
